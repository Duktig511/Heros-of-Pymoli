{
 "cells": [
  {
   "cell_type": "markdown",
   "metadata": {},
   "source": [
    "### Heroes Of Pymoli Data Analysis\n",
    "* Of the 1163 active players, the vast majority are male (84%). There also exists, a smaller, but notable proportion of female players (14%).\n",
    "\n",
    "* Our peak age demographic falls between 20-24 (44.8%) with secondary groups falling between 15-19 (18.60%) and 25-29 (13.4%).  \n",
    "-----"
   ]
  },
  {
   "cell_type": "markdown",
   "metadata": {},
   "source": [
    "### Note\n",
    "* Instructions have been included for each segment. You do not have to follow them exactly, but they are included to help you think through the steps."
   ]
  },
  {
   "cell_type": "code",
   "execution_count": 203,
   "metadata": {},
   "outputs": [],
   "source": [
    "# Dependencies and Setup\n",
    "import pandas as pd\n",
    "import csv\n",
    "import math\n",
    "import numpy\n",
    "\n",
    "# File to Load (Remember to Change These)\n",
    "file_to_load = open(\"C:/Users/vasqu/PycharmProjects/jupyter_notebook/HerosOfPymoli/Resources/purchase_data.csv\")\n",
    "# Read Purchasing File and store into Pandas data frame\n",
    "purchase_data = pd.read_csv(file_to_load)\n",
    "pymoli_pd_df = purchase_data\n"
   ]
  },
  {
   "cell_type": "code",
   "execution_count": 204,
   "metadata": {},
   "outputs": [
    {
     "data": {
      "text/plain": [
       "Purchase ID    False\n",
       "SN             False\n",
       "Age            False\n",
       "Gender         False\n",
       "Item ID        False\n",
       "Item Name      False\n",
       "Price          False\n",
       "dtype: bool"
      ]
     },
     "execution_count": 204,
     "metadata": {},
     "output_type": "execute_result"
    }
   ],
   "source": [
    "##Checking for missing data points\n",
    "pymoli_pd_df.isnull().any()"
   ]
  },
  {
   "cell_type": "code",
   "execution_count": 205,
   "metadata": {},
   "outputs": [
    {
     "data": {
      "text/html": [
       "<div>\n",
       "<style scoped>\n",
       "    .dataframe tbody tr th:only-of-type {\n",
       "        vertical-align: middle;\n",
       "    }\n",
       "\n",
       "    .dataframe tbody tr th {\n",
       "        vertical-align: top;\n",
       "    }\n",
       "\n",
       "    .dataframe thead th {\n",
       "        text-align: right;\n",
       "    }\n",
       "</style>\n",
       "<table border=\"1\" class=\"dataframe\">\n",
       "  <thead>\n",
       "    <tr style=\"text-align: right;\">\n",
       "      <th></th>\n",
       "      <th>Total Players</th>\n",
       "    </tr>\n",
       "  </thead>\n",
       "  <tbody>\n",
       "    <tr>\n",
       "      <th>SN</th>\n",
       "      <td>780</td>\n",
       "    </tr>\n",
       "  </tbody>\n",
       "</table>\n",
       "</div>"
      ],
      "text/plain": [
       "    Total Players\n",
       "SN            780"
      ]
     },
     "execution_count": 205,
     "metadata": {},
     "output_type": "execute_result"
    }
   ],
   "source": [
    "#Display the total number of players\n",
    "total_players = pd.DataFrame(pymoli_pd_df[\"SN\"])\n",
    "total_players = pd.DataFrame(total_players.count())\n",
    "total_players = total_players.rename(columns={0:\"Total Players\"})\n",
    "total_players.head()"
   ]
  },
  {
   "cell_type": "code",
   "execution_count": 206,
   "metadata": {},
   "outputs": [
    {
     "data": {
      "text/html": [
       "<div>\n",
       "<style scoped>\n",
       "    .dataframe tbody tr th:only-of-type {\n",
       "        vertical-align: middle;\n",
       "    }\n",
       "\n",
       "    .dataframe tbody tr th {\n",
       "        vertical-align: top;\n",
       "    }\n",
       "\n",
       "    .dataframe thead th {\n",
       "        text-align: right;\n",
       "    }\n",
       "</style>\n",
       "<table border=\"1\" class=\"dataframe\">\n",
       "  <thead>\n",
       "    <tr style=\"text-align: right;\">\n",
       "      <th></th>\n",
       "      <th>Unique Player Count</th>\n",
       "    </tr>\n",
       "  </thead>\n",
       "  <tbody>\n",
       "    <tr>\n",
       "      <th>0</th>\n",
       "      <td>576</td>\n",
       "    </tr>\n",
       "  </tbody>\n",
       "</table>\n",
       "</div>"
      ],
      "text/plain": [
       "   Unique Player Count\n",
       "0                  576"
      ]
     },
     "execution_count": 206,
     "metadata": {},
     "output_type": "execute_result"
    }
   ],
   "source": [
    "## of Players\n",
    "plyr_count = pd.DataFrame(pd.unique(pymoli_pd_df[\"SN\"]))\n",
    "unique_plyr_count = pd.DataFrame(plyr_count.count())\n",
    "unique_plyr_count = unique_plyr_count.rename(columns={0:\"Unique Player Count\"})\n",
    "unique_plyr_count.head()\n"
   ]
  },
  {
   "cell_type": "markdown",
   "metadata": {},
   "source": [
    "* Run basic calculations to obtain number of unique items, average price, etc.\n",
    "\n",
    "\n",
    "* Create a summary data frame to hold the results\n",
    "\n",
    "\n",
    "* Optional: give the displayed data cleaner formatting\n",
    "\n",
    "\n",
    "* Display the summary data frame\n"
   ]
  },
  {
   "cell_type": "code",
   "execution_count": 207,
   "metadata": {
    "scrolled": true
   },
   "outputs": [
    {
     "data": {
      "text/html": [
       "<div>\n",
       "<style scoped>\n",
       "    .dataframe tbody tr th:only-of-type {\n",
       "        vertical-align: middle;\n",
       "    }\n",
       "\n",
       "    .dataframe tbody tr th {\n",
       "        vertical-align: top;\n",
       "    }\n",
       "\n",
       "    .dataframe thead th {\n",
       "        text-align: right;\n",
       "    }\n",
       "</style>\n",
       "<table border=\"1\" class=\"dataframe\">\n",
       "  <thead>\n",
       "    <tr style=\"text-align: right;\">\n",
       "      <th></th>\n",
       "      <th>Average Price</th>\n",
       "      <th>Total # of Purchases</th>\n",
       "      <th>Total Sales</th>\n",
       "      <th>Unique Item Count</th>\n",
       "    </tr>\n",
       "  </thead>\n",
       "  <tbody>\n",
       "    <tr>\n",
       "      <th>0</th>\n",
       "      <td>$3.05</td>\n",
       "      <td>780</td>\n",
       "      <td>$2,379.77</td>\n",
       "      <td>183</td>\n",
       "    </tr>\n",
       "  </tbody>\n",
       "</table>\n",
       "</div>"
      ],
      "text/plain": [
       "  Average Price  Total # of Purchases Total Sales  Unique Item Count\n",
       "0         $3.05                   780   $2,379.77                183"
      ]
     },
     "execution_count": 207,
     "metadata": {},
     "output_type": "execute_result"
    }
   ],
   "source": [
    "## Purchasing Analysis (Total)\n",
    "# Unique items\n",
    "unique_item_count = len(pd.value_counts(pymoli_pd_df[\"Item ID\"]))\n",
    "total_sales = sum(pymoli_pd_df[\"Price\"])\n",
    "total_num_purchases = len(pymoli_pd_df)\n",
    "\n",
    "average_price = round(total_sales/total_num_purchases,2)\n",
    "purchase_analysis_df = pd.DataFrame([{\"Unique Item Count\":unique_item_count, \"Total Sales\":total_sales, \"Total # of Purchases\":total_num_purchases, \"Average Price\":average_price}])\n",
    "purchase_analysis_df[\"Average Price\"] = purchase_analysis_df[\"Average Price\"].map(\"${:.2f}\".format)\n",
    "purchase_analysis_df[\"Total Sales\"] = purchase_analysis_df[\"Total Sales\"].map(\"${:,.2f}\".format)\n",
    "\n",
    "purchase_analysis_df.head()\n",
    "\n",
    "\n",
    "# Format currency with a dollar sign and 2 decimal places\n",
    "#file_df[\"avg_cost\"] = file_df[\"avg_cost\"].map(\"${:.2f}\".format)\n",
    "\n",
    "# Format numeric content to utilize comma notation\n",
    "#file_df[\"population\"] = file_df[\"population\"].map(\"{:,}\".format)\n",
    "\n",
    "# Round output to 2 decimal places\n",
    "#file_df[\"other\"] = file_df[\"other\"].map(\"{:.2f}\".format)\n",
    "#file_df.head()"
   ]
  },
  {
   "cell_type": "code",
   "execution_count": 214,
   "metadata": {},
   "outputs": [],
   "source": [
    "#Parse out unique customer data from transactional data\n",
    "d = dict(pd.DataFrame(pymoli_pd_df))\n",
    "x = pd.DataFrame(pymoli_pd_df,pymoli_pd_df[\"SN\"].drop_duplicates(keep=\"first\").index)\n",
    "customer_data = pd.DataFrame(x[[\"SN\",\"Age\",\"Gender\"]])\n",
    "transaction_data = pd.DataFrame(pymoli_pd_df)\n",
    "\n",
    "#Determine counts per gender designation\n",
    "gender_f_data = customer_data.loc[(customer_data[\"Gender\"]==\"Female\")]\n",
    "gender_m_data = customer_data.loc[(customer_data[\"Gender\"]==\"Male\")]\n",
    "gender_o_data = customer_data.loc[(customer_data[\"Gender\"]==\"Other / Non-Disclosed\")]\n",
    "gender_f_count = pd.Series(gender_f_data.Gender.count())\n",
    "gender_m_count = pd.Series(gender_m_data.Gender.count())\n",
    "gender_o_count = pd.Series(gender_o_data.Gender.count())\n",
    "\n"
   ]
  },
  {
   "cell_type": "code",
   "execution_count": 216,
   "metadata": {},
   "outputs": [],
   "source": [
    "#capture numerator / denominator values for %'s'\n",
    "per_female = gender_f_count/int(unique_plyr_count.values)\n",
    "per_male = gender_m_count/int(unique_plyr_count.values)\n",
    "per_o = gender_o_count/int(unique_plyr_count.values)\n",
    "per_female = per_female.map(\"{:.2f}%\".format)\n",
    "per_male = per_male.map(\"{:.2f}%\".format)\n",
    "per_o = per_o.map(\"{:.2f}%\".format)\n",
    "\n"
   ]
  },
  {
   "cell_type": "markdown",
   "metadata": {},
   "source": [
    "## Gender Demographics"
   ]
  },
  {
   "cell_type": "markdown",
   "metadata": {},
   "source": [
    "* Percentage and Count of Male Players\n",
    "\n",
    "\n",
    "* Percentage and Count of Female Players\n",
    "\n",
    "\n",
    "* Percentage and Count of Other / Non-Disclosed\n",
    "\n",
    "\n"
   ]
  },
  {
   "cell_type": "code",
   "execution_count": 217,
   "metadata": {},
   "outputs": [
    {
     "data": {
      "text/html": [
       "<div>\n",
       "<style scoped>\n",
       "    .dataframe tbody tr th:only-of-type {\n",
       "        vertical-align: middle;\n",
       "    }\n",
       "\n",
       "    .dataframe tbody tr th {\n",
       "        vertical-align: top;\n",
       "    }\n",
       "\n",
       "    .dataframe thead th {\n",
       "        text-align: right;\n",
       "    }\n",
       "</style>\n",
       "<table border=\"1\" class=\"dataframe\">\n",
       "  <thead>\n",
       "    <tr style=\"text-align: right;\">\n",
       "      <th></th>\n",
       "      <th>Percentage Male Players</th>\n",
       "      <th>Percentage Female Players</th>\n",
       "      <th>Percentage Non-Disclosed</th>\n",
       "    </tr>\n",
       "  </thead>\n",
       "  <tbody>\n",
       "    <tr>\n",
       "      <th>0</th>\n",
       "      <td>0.84%</td>\n",
       "      <td>0.14%</td>\n",
       "      <td>0.02%</td>\n",
       "    </tr>\n",
       "  </tbody>\n",
       "</table>\n",
       "</div>"
      ],
      "text/plain": [
       "  Percentage Male Players Percentage Female Players Percentage Non-Disclosed\n",
       "0                   0.84%                     0.14%                    0.02%"
      ]
     },
     "execution_count": 217,
     "metadata": {},
     "output_type": "execute_result"
    }
   ],
   "source": [
    "player_dict = {\"Percentage Male Players\":per_male, \"Percentage Female Players\":per_female, \"Percentage Non-Disclosed\":per_o}\n",
    "\n",
    "player_demo_df = pd.DataFrame(player_dict)\n",
    "player_demo_df.head()"
   ]
  },
  {
   "cell_type": "code",
   "execution_count": 293,
   "metadata": {},
   "outputs": [
    {
     "data": {
      "text/html": [
       "<div>\n",
       "<style scoped>\n",
       "    .dataframe tbody tr th:only-of-type {\n",
       "        vertical-align: middle;\n",
       "    }\n",
       "\n",
       "    .dataframe tbody tr th {\n",
       "        vertical-align: top;\n",
       "    }\n",
       "\n",
       "    .dataframe thead th {\n",
       "        text-align: right;\n",
       "    }\n",
       "</style>\n",
       "<table border=\"1\" class=\"dataframe\">\n",
       "  <thead>\n",
       "    <tr style=\"text-align: right;\">\n",
       "      <th></th>\n",
       "      <th>Purchase Count</th>\n",
       "      <th>Average Purchase Price</th>\n",
       "      <th>Total Purchase Value</th>\n",
       "      <th>Total Average Price Per Customer</th>\n",
       "    </tr>\n",
       "  </thead>\n",
       "  <tbody>\n",
       "    <tr>\n",
       "      <th>Female</th>\n",
       "      <td>113</td>\n",
       "      <td>$3.20</td>\n",
       "      <td>$361.94</td>\n",
       "      <td>$4.47</td>\n",
       "    </tr>\n",
       "    <tr>\n",
       "      <th>Male</th>\n",
       "      <td>652</td>\n",
       "      <td>$3.02</td>\n",
       "      <td>$1,967.64</td>\n",
       "      <td>$4.07</td>\n",
       "    </tr>\n",
       "    <tr>\n",
       "      <th>Non-Disclosed</th>\n",
       "      <td>15</td>\n",
       "      <td>$3.35</td>\n",
       "      <td>$50.19</td>\n",
       "      <td>$4.56</td>\n",
       "    </tr>\n",
       "  </tbody>\n",
       "</table>\n",
       "</div>"
      ],
      "text/plain": [
       "               Purchase Count Average Purchase Price Total Purchase Value  \\\n",
       "Female                    113                  $3.20              $361.94   \n",
       "Male                      652                  $3.02            $1,967.64   \n",
       "Non-Disclosed              15                  $3.35               $50.19   \n",
       "\n",
       "              Total Average Price Per Customer  \n",
       "Female                                   $4.47  \n",
       "Male                                     $4.07  \n",
       "Non-Disclosed                            $4.56  "
      ]
     },
     "execution_count": 293,
     "metadata": {},
     "output_type": "execute_result"
    }
   ],
   "source": [
    "#Purchasing Analysis Gender\n",
    "\n",
    "##Aggregated values\n",
    "\n",
    "###Purchase Count\n",
    "purchase_count = []\n",
    "g = transaction_data.groupby(\"Gender\")\n",
    "for gender, purchase in g:\n",
    "    purchase_count.append(purchase.Price.count())\n",
    "\n",
    "    \n",
    "###Average Purchase Price\n",
    "avg_purchase_price = []    \n",
    "for gender, purchase in g:\n",
    "    avg_purchase_price.append(purchase.Price.mean())\n",
    "\n",
    "\n",
    "###Total Purchase Value\n",
    "total_purchase_val = []\n",
    "for gender, purchase in g:\n",
    "    total_purchase_val.append(purchase.Price.sum())\n",
    "\n",
    "##Average Purchase Total per Person by Gender\n",
    "avg_purchase_val_per_cust = []\n",
    "for gender, SN in g:\n",
    "    customer_count = g.SN.count()\n",
    "     \n",
    "avg_reciept = pd.DataFrame(total_purchase_val/customer_count)\n",
    "\n",
    "#use dictionary comprehension to build final summary table\n",
    "gp_dict = {\"Purchase Count\":[c for c in purchase_count], \"Average Purchase Price\":[c for c in avg_purchase_price], \"Total Purchase Value\":[c for c in  total_purchase_val]}\n",
    "gp_labels = [\"Female\", \"Male\", \"Non-Disclosed\"]\n",
    "\n",
    "#apply number formats\n",
    "gender_purchase_df = pd.DataFrame(gp_dict, index=gp_labels)\n",
    "gender_purchase_df[\"Average Purchase Price\"] = gender_purchase_df[\"Average Purchase Price\"].map(\"${:.2f}\".format)\n",
    "gender_purchase_df[\"Total Purchase Value\"] = gender_purchase_df[\"Total Purchase Value\"].map(\"${:,.2f}\".format)\n",
    "\n",
    "#calculate avg receipt value\n",
    "avg_receipt = pd.DataFrame(total_purchase_val/customer_count)\n",
    "avg_receipt[\"Total Average Price Per Customer\"] = avg_receipt[\"SN\"].map(\"${:,.2f}\".format)\n",
    "avg_receipt = avg_receipt.rename(index={\"Female\":\"Female\", \"Male\": \"Male\", \"Other / Non-Disclosed\": \"Non-Disclosed\"})\n",
    "gender_purchase_df[\"Total Average Price Per Customer\"] = avg_receipt[\"Total Average Price Per Customer\"]\n",
    "gender_purchase_df"
   ]
  },
  {
   "cell_type": "code",
   "execution_count": null,
   "metadata": {},
   "outputs": [],
   "source": []
  },
  {
   "cell_type": "markdown",
   "metadata": {},
   "source": [
    "\n",
    "## Purchasing Analysis (Gender)"
   ]
  },
  {
   "cell_type": "markdown",
   "metadata": {},
   "source": [
    "* Run basic calculations to obtain purchase count, avg. purchase price, avg. purchase total per person etc. by gender\n",
    "\n",
    "\n",
    "\n",
    "\n",
    "* Create a summary data frame to hold the results\n",
    "\n",
    "\n",
    "* Optional: give the displayed data cleaner formatting\n",
    "\n",
    "\n",
    "* Display the summary data frame"
   ]
  },
  {
   "cell_type": "markdown",
   "metadata": {},
   "source": []
  },
  {
   "cell_type": "markdown",
   "metadata": {},
   "source": [
    "## Age Demographics"
   ]
  },
  {
   "cell_type": "markdown",
   "metadata": {},
   "source": [
    "* Establish bins for ages\n",
    "\n",
    "\n",
    "* Categorize the existing players using the age bins. Hint: use pd.cut()\n",
    "\n",
    "\n",
    "* Calculate the numbers and percentages by age group\n",
    "\n",
    "\n",
    "* Create a summary data frame to hold the results\n",
    "\n",
    "\n",
    "* Optional: round the percentage column to two decimal points\n",
    "\n",
    "\n",
    "* Display Age Demographics Table\n"
   ]
  },
  {
   "cell_type": "code",
   "execution_count": null,
   "metadata": {},
   "outputs": [],
   "source": []
  },
  {
   "cell_type": "code",
   "execution_count": 317,
   "metadata": {},
   "outputs": [
    {
     "data": {
      "text/html": [
       "<div>\n",
       "<style scoped>\n",
       "    .dataframe tbody tr th:only-of-type {\n",
       "        vertical-align: middle;\n",
       "    }\n",
       "\n",
       "    .dataframe tbody tr th {\n",
       "        vertical-align: top;\n",
       "    }\n",
       "\n",
       "    .dataframe thead th {\n",
       "        text-align: right;\n",
       "    }\n",
       "</style>\n",
       "<table border=\"1\" class=\"dataframe\">\n",
       "  <thead>\n",
       "    <tr style=\"text-align: right;\">\n",
       "      <th></th>\n",
       "      <th>Purchase Count</th>\n",
       "      <th>Average Purchase Price</th>\n",
       "      <th>Total Purchase Value</th>\n",
       "      <th>Total Average Price Per Customer</th>\n",
       "    </tr>\n",
       "  </thead>\n",
       "  <tbody>\n",
       "    <tr>\n",
       "      <th>&lt;10</th>\n",
       "      <td>23</td>\n",
       "      <td>$3.35</td>\n",
       "      <td>$77.13</td>\n",
       "      <td>$4.54</td>\n",
       "    </tr>\n",
       "    <tr>\n",
       "      <th>10-14</th>\n",
       "      <td>28</td>\n",
       "      <td>$2.96</td>\n",
       "      <td>$82.78</td>\n",
       "      <td>$3.76</td>\n",
       "    </tr>\n",
       "    <tr>\n",
       "      <th>15-19</th>\n",
       "      <td>136</td>\n",
       "      <td>$3.04</td>\n",
       "      <td>$412.89</td>\n",
       "      <td>$3.86</td>\n",
       "    </tr>\n",
       "    <tr>\n",
       "      <th>20-24</th>\n",
       "      <td>365</td>\n",
       "      <td>$3.05</td>\n",
       "      <td>$1,114.06</td>\n",
       "      <td>$4.32</td>\n",
       "    </tr>\n",
       "    <tr>\n",
       "      <th>25-29</th>\n",
       "      <td>101</td>\n",
       "      <td>$2.90</td>\n",
       "      <td>$293.00</td>\n",
       "      <td>$3.81</td>\n",
       "    </tr>\n",
       "    <tr>\n",
       "      <th>30-34</th>\n",
       "      <td>73</td>\n",
       "      <td>$2.93</td>\n",
       "      <td>$214.00</td>\n",
       "      <td>$4.12</td>\n",
       "    </tr>\n",
       "    <tr>\n",
       "      <th>35-39</th>\n",
       "      <td>41</td>\n",
       "      <td>$3.60</td>\n",
       "      <td>$147.67</td>\n",
       "      <td>$4.76</td>\n",
       "    </tr>\n",
       "    <tr>\n",
       "      <th>40+</th>\n",
       "      <td>13</td>\n",
       "      <td>$2.94</td>\n",
       "      <td>$38.24</td>\n",
       "      <td>$3.19</td>\n",
       "    </tr>\n",
       "  </tbody>\n",
       "</table>\n",
       "</div>"
      ],
      "text/plain": [
       "       Purchase Count Average Purchase Price Total Purchase Value  \\\n",
       "<10                23                  $3.35               $77.13   \n",
       "10-14              28                  $2.96               $82.78   \n",
       "15-19             136                  $3.04              $412.89   \n",
       "20-24             365                  $3.05            $1,114.06   \n",
       "25-29             101                  $2.90              $293.00   \n",
       "30-34              73                  $2.93              $214.00   \n",
       "35-39              41                  $3.60              $147.67   \n",
       "40+                13                  $2.94               $38.24   \n",
       "\n",
       "      Total Average Price Per Customer  \n",
       "<10                              $4.54  \n",
       "10-14                            $3.76  \n",
       "15-19                            $3.86  \n",
       "20-24                            $4.32  \n",
       "25-29                            $3.81  \n",
       "30-34                            $4.12  \n",
       "35-39                            $4.76  \n",
       "40+                              $3.19  "
      ]
     },
     "execution_count": 317,
     "metadata": {},
     "output_type": "execute_result"
    }
   ],
   "source": [
    "#create bins for age groups on total and unique level\n",
    "bins = [0, 9, 14, 19, 24, 29, 34, 39, 45]\n",
    "age_labels = [\"<10\", \"10-14\", \"15-19\",\"20-24\", \"25-29\",\"30-34\",\"35-39\", \"40+\"]\n",
    "customer_data[\"Age Group\"] = pd.cut(customer_data[\"Age\"],bins= bins, labels=age_labels, include_lowest=True)\n",
    "\n",
    "\n",
    "bins = [0, 9, 14, 19, 24, 29, 34, 39, 45]\n",
    "age_labels = [\"<10\", \"10-14\", \"15-19\",\"20-24\", \"25-29\",\"30-34\",\"35-39\", \"40+\"]\n",
    "transaction_data[\"Age Group\"] = pd.cut(transaction_data[\"Age\"],bins= bins, labels=age_labels, include_lowest=True)\n",
    "\n",
    "\n",
    "#Purchase Count\n",
    "g = transaction_data.groupby(\"Age Group\")\n",
    "for customer, age in g:\n",
    "    grp_ages_purchase_count = g.Price.count()\n",
    "\n",
    "    \n",
    "g = transaction_data.groupby(\"Age Group\") \n",
    "    \n",
    "#Average Purchase Price\n",
    "for customer, age in g:\n",
    "    grp_ages_avg_purchase_price = g.Price.mean()\n",
    "    \n",
    "\n",
    "#Total Purchase Value    \n",
    "for customer, age in g:\n",
    "    grp_ages_total_purchase_val = g.Price.sum()\n",
    "       \n",
    "\n",
    "#Average Purchase Total per Person by Age Group\n",
    "g = customer_data.groupby(\"Age Group\")\n",
    "for gender, SN in g:\n",
    "    grp_age_customer_count = g.SN.count()\n",
    "\n",
    "###consolidate by customer 'SN' id and calculate mean Price\n",
    "\n",
    "grp_age_dict = {\"Purchase Count\":[c for c in grp_ages_purchase_count], \"Average Purchase Price\":[c for c in grp_ages_avg_purchase_price], \"Total Purchase Value\":[c for c in  grp_ages_total_purchase_val]}\n",
    "grp_age_labels = age_labels\n",
    "\n",
    "grp_age_purchase_df = pd.DataFrame(grp_age_dict, index=grp_age_labels)\n",
    "grp_age_purchase_df[\"Average Purchase Price\"] = grp_age_purchase_df[\"Average Purchase Price\"].map(\"${:,.2f}\".format)\n",
    "grp_age_purchase_df[\"Total Purchase Value\"] = grp_age_purchase_df[\"Total Purchase Value\"].map(\"${:,.2f}\".format)\n",
    "\n",
    "\n",
    "grp_age_avg_receipt = pd.DataFrame(grp_ages_total_purchase_val/grp_age_customer_count)\n",
    "grp_age_avg_receipt[\"Total Average Price Per Customer\"] = grp_age_avg_receipt[0].map(\"${:,.2f}\".format)\n",
    "avg_receipt = avg_receipt.rename(index={\"Female\":\"Female\", \"Male\": \"Male\", \"Other / Non-Disclosed\": \"Non-Disclosed\"})\n",
    "grp_age_purchase_df[\"Total Average Price Per Customer\"] = grp_age_avg_receipt[\"Total Average Price Per Customer\"]\n",
    "grp_age_purchase_df\n",
    "\n"
   ]
  },
  {
   "cell_type": "code",
   "execution_count": 411,
   "metadata": {},
   "outputs": [],
   "source": [
    "grp_spend = transaction_data.groupby([\"SN\"])\n",
    "\n",
    "grp_spend_df = pd.DataFrame(grp_spend.sum())\n",
    "top_spenders_df = pd.DataFrame(grp_spend_df.Price.nlargest(n=5))\n",
    "top_spenders_df\n",
    "spenders = top_spenders_df.axes"
   ]
  },
  {
   "cell_type": "markdown",
   "metadata": {},
   "source": [
    "## Top Spenders"
   ]
  },
  {
   "cell_type": "markdown",
   "metadata": {},
   "source": [
    "* Run basic calculations to obtain the results in the table below\n",
    "\n",
    "\n",
    "* Create a summary data frame to hold the results\n",
    "\n",
    "\n",
    "* Sort the total purchase value column in descending order\n",
    "\n",
    "\n",
    "* Optional: give the displayed data cleaner formatting\n",
    "\n",
    "\n",
    "* Display a preview of the summary data frame\n",
    "\n"
   ]
  },
  {
   "cell_type": "code",
   "execution_count": 496,
   "metadata": {},
   "outputs": [
    {
     "data": {
      "text/html": [
       "<div>\n",
       "<style scoped>\n",
       "    .dataframe tbody tr th:only-of-type {\n",
       "        vertical-align: middle;\n",
       "    }\n",
       "\n",
       "    .dataframe tbody tr th {\n",
       "        vertical-align: top;\n",
       "    }\n",
       "\n",
       "    .dataframe thead th {\n",
       "        text-align: right;\n",
       "    }\n",
       "</style>\n",
       "<table border=\"1\" class=\"dataframe\">\n",
       "  <thead>\n",
       "    <tr style=\"text-align: right;\">\n",
       "      <th></th>\n",
       "      <th>Total Purchase Value</th>\n",
       "      <th>Age</th>\n",
       "      <th>Purchase Count</th>\n",
       "      <th>Average Purchase Price</th>\n",
       "    </tr>\n",
       "    <tr>\n",
       "      <th>SN</th>\n",
       "      <th></th>\n",
       "      <th></th>\n",
       "      <th></th>\n",
       "      <th></th>\n",
       "    </tr>\n",
       "  </thead>\n",
       "  <tbody>\n",
       "    <tr>\n",
       "      <th>Lisosia93</th>\n",
       "      <td>$18.96</td>\n",
       "      <td>125</td>\n",
       "      <td>5</td>\n",
       "      <td>$3.79</td>\n",
       "    </tr>\n",
       "    <tr>\n",
       "      <th>Idastidru52</th>\n",
       "      <td>$15.45</td>\n",
       "      <td>96</td>\n",
       "      <td>4</td>\n",
       "      <td>$3.86</td>\n",
       "    </tr>\n",
       "    <tr>\n",
       "      <th>Chamjask73</th>\n",
       "      <td>$13.83</td>\n",
       "      <td>66</td>\n",
       "      <td>3</td>\n",
       "      <td>$4.61</td>\n",
       "    </tr>\n",
       "    <tr>\n",
       "      <th>Iral74</th>\n",
       "      <td>$13.62</td>\n",
       "      <td>84</td>\n",
       "      <td>4</td>\n",
       "      <td>$3.40</td>\n",
       "    </tr>\n",
       "    <tr>\n",
       "      <th>Iskadarya95</th>\n",
       "      <td>$13.10</td>\n",
       "      <td>60</td>\n",
       "      <td>3</td>\n",
       "      <td>$4.37</td>\n",
       "    </tr>\n",
       "  </tbody>\n",
       "</table>\n",
       "</div>"
      ],
      "text/plain": [
       "            Total Purchase Value  Age  Purchase Count Average Purchase Price\n",
       "SN                                                                          \n",
       "Lisosia93                 $18.96  125               5                  $3.79\n",
       "Idastidru52               $15.45   96               4                  $3.86\n",
       "Chamjask73                $13.83   66               3                  $4.61\n",
       "Iral74                    $13.62   84               4                  $3.40\n",
       "Iskadarya95               $13.10   60               3                  $4.37"
      ]
     },
     "execution_count": 496,
     "metadata": {},
     "output_type": "execute_result"
    }
   ],
   "source": [
    "spender_transaction =pd.DataFrame(transaction_data.loc[(transaction_data[\"SN\"]=='Lisosia93')|(transaction_data[\"SN\"] =='Idastidru52')|(transaction_data[\"SN\"] =='Chamjask73')|(transaction_data[\"SN\"] =='Iral74')|(transaction_data[\"SN\"] =='Iskadarya95'), [\"SN\",\"Price\",\"Age\", \"Gender\"]])\n",
    "temp_col = []\n",
    "temp_col = [1 for x in spender_transaction.values]\n",
    "counter = temp_col\n",
    "spender_transaction[\"counter\"] = pd.Series(counter).values\n",
    "spr_summary = spender_transaction.groupby(\"SN\")\n",
    "spender_summary = pd.DataFrame(spr_summary.sum())\n",
    "spender_summary[\"Average Purchase Price\"] = (spender_summary[\"Price\"]/spender_summary[\"counter\"])\n",
    "top_stats = spender_summary.sort_values(ascending=False, by=\"Price\")\n",
    "top_stats[\"Price\"] = top_stats[\"Price\"].map(\"${:,.2f}\".format)\n",
    "top_stats[\"Average Purchase Price\"] = top_stats[\"Average Purchase Price\"].map(\"${:,.2f}\".format)\n",
    "top_stats = top_stats.rename(columns={\"Price\": \"Total Purchase Value\",\"counter\": \"Purchase Count\"})\n",
    "top_stats\n"
   ]
  },
  {
   "cell_type": "markdown",
   "metadata": {},
   "source": [
    "## Most Popular Items"
   ]
  },
  {
   "cell_type": "markdown",
   "metadata": {},
   "source": [
    "* Retrieve the Item ID, Item Name, and Item Price columns\n",
    "\n",
    "\n",
    "* Group by Item ID and Item Name. Perform calculations to obtain purchase count, item price, and total purchase value\n",
    "\n",
    "\n",
    "* Create a summary data frame to hold the results\n",
    "\n",
    "\n",
    "* Sort the purchase count column in descending order\n",
    "\n",
    "\n",
    "* Optional: give the displayed data cleaner formatting\n",
    "\n",
    "\n",
    "* Display a preview of the summary data frame\n",
    "\n"
   ]
  },
  {
   "cell_type": "code",
   "execution_count": 495,
   "metadata": {},
   "outputs": [
    {
     "ename": "ValueError",
     "evalue": "No axis named Item ID for object type <class 'pandas.core.frame.DataFrame'>",
     "output_type": "error",
     "traceback": [
      "\u001b[1;31m---------------------------------------------------------------------------\u001b[0m",
      "\u001b[1;31mValueError\u001b[0m                                Traceback (most recent call last)",
      "\u001b[1;32m<ipython-input-495-5e70ca463343>\u001b[0m in \u001b[0;36m<module>\u001b[1;34m()\u001b[0m\n\u001b[0;32m     12\u001b[0m \u001b[0mtransaction_data_replace\u001b[0m \u001b[1;33m=\u001b[0m \u001b[0mpd\u001b[0m\u001b[1;33m.\u001b[0m\u001b[0mDataFrame\u001b[0m\u001b[1;33m(\u001b[0m\u001b[0mtransaction_data_replace\u001b[0m\u001b[1;33m)\u001b[0m\u001b[1;33m\u001b[0m\u001b[0m\n\u001b[0;32m     13\u001b[0m \u001b[1;33m\u001b[0m\u001b[0m\n\u001b[1;32m---> 14\u001b[1;33m \u001b[0mgrp_items\u001b[0m \u001b[1;33m=\u001b[0m \u001b[0mtransaction_data\u001b[0m\u001b[1;33m.\u001b[0m\u001b[0mgroupby\u001b[0m\u001b[1;33m(\u001b[0m\u001b[1;34m\"Item Name\"\u001b[0m\u001b[1;33m,\u001b[0m \u001b[1;34m\"Item ID\"\u001b[0m\u001b[1;33m)\u001b[0m\u001b[1;33m\u001b[0m\u001b[0m\n\u001b[0m\u001b[0;32m     15\u001b[0m \u001b[1;31m#transaction_data_replace\u001b[0m\u001b[1;33m\u001b[0m\u001b[1;33m\u001b[0m\u001b[0m\n",
      "\u001b[1;32m~\\Anaconda3\\envs\\PythonData\\lib\\site-packages\\pandas\\core\\generic.py\u001b[0m in \u001b[0;36mgroupby\u001b[1;34m(self, by, axis, level, as_index, sort, group_keys, squeeze, observed, **kwargs)\u001b[0m\n\u001b[0;32m   6660\u001b[0m         \u001b[1;32mif\u001b[0m \u001b[0mlevel\u001b[0m \u001b[1;32mis\u001b[0m \u001b[1;32mNone\u001b[0m \u001b[1;32mand\u001b[0m \u001b[0mby\u001b[0m \u001b[1;32mis\u001b[0m \u001b[1;32mNone\u001b[0m\u001b[1;33m:\u001b[0m\u001b[1;33m\u001b[0m\u001b[0m\n\u001b[0;32m   6661\u001b[0m             \u001b[1;32mraise\u001b[0m \u001b[0mTypeError\u001b[0m\u001b[1;33m(\u001b[0m\u001b[1;34m\"You have to supply one of 'by' and 'level'\"\u001b[0m\u001b[1;33m)\u001b[0m\u001b[1;33m\u001b[0m\u001b[0m\n\u001b[1;32m-> 6662\u001b[1;33m         \u001b[0maxis\u001b[0m \u001b[1;33m=\u001b[0m \u001b[0mself\u001b[0m\u001b[1;33m.\u001b[0m\u001b[0m_get_axis_number\u001b[0m\u001b[1;33m(\u001b[0m\u001b[0maxis\u001b[0m\u001b[1;33m)\u001b[0m\u001b[1;33m\u001b[0m\u001b[0m\n\u001b[0m\u001b[0;32m   6663\u001b[0m         return groupby(self, by=by, axis=axis, level=level, as_index=as_index,\n\u001b[0;32m   6664\u001b[0m                        \u001b[0msort\u001b[0m\u001b[1;33m=\u001b[0m\u001b[0msort\u001b[0m\u001b[1;33m,\u001b[0m \u001b[0mgroup_keys\u001b[0m\u001b[1;33m=\u001b[0m\u001b[0mgroup_keys\u001b[0m\u001b[1;33m,\u001b[0m \u001b[0msqueeze\u001b[0m\u001b[1;33m=\u001b[0m\u001b[0msqueeze\u001b[0m\u001b[1;33m,\u001b[0m\u001b[1;33m\u001b[0m\u001b[0m\n",
      "\u001b[1;32m~\\Anaconda3\\envs\\PythonData\\lib\\site-packages\\pandas\\core\\generic.py\u001b[0m in \u001b[0;36m_get_axis_number\u001b[1;34m(self, axis)\u001b[0m\n\u001b[0;32m    373\u001b[0m                 \u001b[1;32mpass\u001b[0m\u001b[1;33m\u001b[0m\u001b[0m\n\u001b[0;32m    374\u001b[0m         raise ValueError('No axis named {0} for object type {1}'\n\u001b[1;32m--> 375\u001b[1;33m                          .format(axis, type(self)))\n\u001b[0m\u001b[0;32m    376\u001b[0m \u001b[1;33m\u001b[0m\u001b[0m\n\u001b[0;32m    377\u001b[0m     \u001b[1;32mdef\u001b[0m \u001b[0m_get_axis_name\u001b[0m\u001b[1;33m(\u001b[0m\u001b[0mself\u001b[0m\u001b[1;33m,\u001b[0m \u001b[0maxis\u001b[0m\u001b[1;33m)\u001b[0m\u001b[1;33m:\u001b[0m\u001b[1;33m\u001b[0m\u001b[0m\n",
      "\u001b[1;31mValueError\u001b[0m: No axis named Item ID for object type <class 'pandas.core.frame.DataFrame'>"
     ]
    }
   ],
   "source": [
    "item_id_check = transaction_data[\"Item ID\"]\n",
    "item_name_check = transaction_data[\"Item Name\"]\n",
    "\n",
    "item_id_unq = pd.DataFrame(item_id_check.unique())\n",
    "item_name_unq = pd.DataFrame(item_name_check.unique())\n",
    "#????? item id & item name list are uneven. Need to check for duplicated ID's\n",
    "transaction_data_replace = transaction_data\n",
    "transaction_data_replace[\"Item ID_fix\"] = transaction_data[\"Gender\"].replace({141:132, 180:30, 101:92,23:1})\n",
    "temp_col = []\n",
    "temp_col = [1 for x in transaction_data_replace.values]\n",
    "counter = temp_col\n",
    "transaction_data_replace[\"counter\"] = pd.Series(counter).values\n",
    "transaction_data_replace = dict(transaction_data_replace)\n",
    "transaction_data_replace = pd.DataFrame(transaction_data_replace)\n",
    "\n",
    "grp_items = transaction_data.groupby(\"Item Name\", \"Item ID\")\n",
    "\n",
    "\n",
    "###error not recognizing column name??!!"
   ]
  },
  {
   "cell_type": "markdown",
   "metadata": {},
   "source": [
    "## Most Profitable Items"
   ]
  },
  {
   "cell_type": "markdown",
   "metadata": {},
   "source": [
    "* Sort the above table by total purchase value in descending order\n",
    "\n",
    "\n",
    "* Optional: give the displayed data cleaner formatting\n",
    "\n",
    "\n",
    "* Display a preview of the data frame\n",
    "\n"
   ]
  }
 ],
 "metadata": {
  "anaconda-cloud": {},
  "kernel_info": {
   "name": "python3"
  },
  "kernelspec": {
   "display_name": "Python 3",
   "language": "python",
   "name": "python3"
  },
  "language_info": {
   "codemirror_mode": {
    "name": "ipython",
    "version": 3
   },
   "file_extension": ".py",
   "mimetype": "text/x-python",
   "name": "python",
   "nbconvert_exporter": "python",
   "pygments_lexer": "ipython3",
   "version": "3.6.6"
  },
  "nteract": {
   "version": "0.2.0"
  }
 },
 "nbformat": 4,
 "nbformat_minor": 2
}
